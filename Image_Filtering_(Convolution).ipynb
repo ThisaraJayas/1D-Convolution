{
  "nbformat": 4,
  "nbformat_minor": 0,
  "metadata": {
    "kernelspec": {
      "display_name": "tfenv",
      "language": "python",
      "name": "tfenv"
    },
    "language_info": {
      "codemirror_mode": {
        "name": "ipython",
        "version": 3
      },
      "file_extension": ".py",
      "mimetype": "text/x-python",
      "name": "python",
      "nbconvert_exporter": "python",
      "pygments_lexer": "ipython3",
      "version": "3.6.6"
    },
    "colab": {
      "provenance": [],
      "include_colab_link": true
    }
  },
  "cells": [
    {
      "cell_type": "markdown",
      "metadata": {
        "id": "view-in-github",
        "colab_type": "text"
      },
      "source": [
        "<a href=\"https://colab.research.google.com/github/ThisaraJayas/1D-Convolution/blob/main/Image_Filtering_(Convolution).ipynb\" target=\"_parent\"><img src=\"https://colab.research.google.com/assets/colab-badge.svg\" alt=\"Open In Colab\"/></a>"
      ]
    },
    {
      "cell_type": "markdown",
      "source": [
        "    Upload the Image_Filtering_(Convolution).ipynb notebook to colab. Run all cells. What can you say about the output?\n",
        "\n",
        "\n",
        "    Now add the following code segments to the uploaded notebook.\n",
        "\n",
        "\n",
        "In the 5th code cell that defines v_kernel, past the following code under the existing code.\n",
        "\n",
        "\n",
        "h_kernel = np.array([\n",
        "\n",
        "       [-1, -1, -1],\n",
        "\n",
        "       [0, 0, 0],\n",
        "\n",
        "       [1, 1, 1]\n",
        "\n",
        "])\n",
        "\n",
        "\n",
        "In the 6th code cell that assigns the value for the v_image, insert the following code under the existing code.\n",
        "\n",
        "\n",
        "h_image = cv2.filter2D(im, -1, h_kernel)\n",
        "\n",
        "\n",
        "In the 7th code cell that displays the output image with the vertical image, inset the following code after the existing code.\n",
        "\n",
        "\n",
        "\n",
        "\n",
        "\n",
        "plt.figure()\n",
        "\n",
        "plt.imshow(h_image, cmap='gray')\n",
        "\n",
        "plt.title('Horizontal Image')\n",
        "\n",
        "\n",
        "\n",
        "What can you say about the additional output image with edges? How does the kernel values affect the output?"
      ],
      "metadata": {
        "id": "sJY9ikrGpa9m"
      }
    },
    {
      "cell_type": "code",
      "metadata": {
        "id": "9ZRqPf8s8J5A"
      },
      "source": [
        "import cv2\n",
        "from matplotlib import pyplot as plt\n",
        "import numpy as np"
      ],
      "execution_count": 1,
      "outputs": []
    },
    {
      "cell_type": "code",
      "metadata": {
        "id": "KvrIxtcH9IRG"
      },
      "source": [],
      "execution_count": 1,
      "outputs": []
    },
    {
      "cell_type": "markdown",
      "metadata": {
        "id": "x6YwYguU8J5D"
      },
      "source": [
        "### Load the image using OpenCV"
      ]
    },
    {
      "cell_type": "code",
      "metadata": {
        "id": "u1yTGOrB8J5E"
      },
      "source": [
        "im = cv2.imread('/content/sample_data/lenna.png')"
      ],
      "execution_count": 2,
      "outputs": []
    },
    {
      "cell_type": "code",
      "metadata": {
        "id": "QrfEmHxb8J5H",
        "colab": {
          "base_uri": "https://localhost:8080/",
          "height": 179
        },
        "outputId": "a3cb46c6-6cf9-426c-db5a-47ccbfaf50dd"
      },
      "source": [
        "im.shape"
      ],
      "execution_count": 3,
      "outputs": [
        {
          "output_type": "error",
          "ename": "AttributeError",
          "evalue": "ignored",
          "traceback": [
            "\u001b[0;31m---------------------------------------------------------------------------\u001b[0m",
            "\u001b[0;31mAttributeError\u001b[0m                            Traceback (most recent call last)",
            "\u001b[0;32m<ipython-input-3-afbdf33aed57>\u001b[0m in \u001b[0;36m<cell line: 1>\u001b[0;34m()\u001b[0m\n\u001b[0;32m----> 1\u001b[0;31m \u001b[0mim\u001b[0m\u001b[0;34m.\u001b[0m\u001b[0mshape\u001b[0m\u001b[0;34m\u001b[0m\u001b[0;34m\u001b[0m\u001b[0m\n\u001b[0m",
            "\u001b[0;31mAttributeError\u001b[0m: 'NoneType' object has no attribute 'shape'"
          ]
        }
      ]
    },
    {
      "cell_type": "markdown",
      "source": [],
      "metadata": {
        "id": "49vIX3F5pZ54"
      }
    },
    {
      "cell_type": "markdown",
      "metadata": {
        "id": "jP22sjTa8J5J"
      },
      "source": [
        "### Convert the RGB image into a grayscale image"
      ]
    },
    {
      "cell_type": "code",
      "metadata": {
        "id": "Ut2eYepD8J5K"
      },
      "source": [
        "im = cv2.cvtColor(im, cv2.COLOR_BGR2GRAY)\n",
        "im.shape"
      ],
      "execution_count": null,
      "outputs": []
    },
    {
      "cell_type": "markdown",
      "metadata": {
        "id": "jJCjgOpB8J5N"
      },
      "source": [
        "### Define vertical and horizontal filter kernels"
      ]
    },
    {
      "cell_type": "code",
      "metadata": {
        "id": "z1YETz2O8J5N"
      },
      "source": [
        "v_kernel = np.array([\n",
        "    [-1, 0, 1],\n",
        "    [-1, 0, 1],\n",
        "    [-1, 0, 1]\n",
        "])\n",
        "h_kernel = np.array([\n",
        "\n",
        "       [-1, -1, -1],\n",
        "\n",
        "       [0, 0, 0],\n",
        "\n",
        "       [1, 1, 1]\n"
      ],
      "execution_count": null,
      "outputs": []
    },
    {
      "cell_type": "code",
      "metadata": {
        "id": "GhBHC8uw8J5T"
      },
      "source": [],
      "execution_count": null,
      "outputs": []
    },
    {
      "cell_type": "markdown",
      "metadata": {
        "id": "McSrGvm-8J5X"
      },
      "source": [
        "### Do the filtering"
      ]
    },
    {
      "cell_type": "code",
      "metadata": {
        "id": "dkGb_rWY8J5Y"
      },
      "source": [
        "v_image = cv2.filter2D(im, -1, v_kernel)\n",
        "h_image = cv2.filter2D(im, -1, h_kernel)"
      ],
      "execution_count": null,
      "outputs": []
    },
    {
      "cell_type": "markdown",
      "metadata": {
        "id": "c9fV9w798J5c"
      },
      "source": [
        "### Display results"
      ]
    },
    {
      "cell_type": "code",
      "metadata": {
        "id": "mHjM5ZeG8J5c"
      },
      "source": [
        "plt.imshow(im, cmap='gray')\n",
        "plt.title('Original Image')\n",
        "\n",
        "plt.figure()\n",
        "plt.imshow(v_image, cmap='gray')\n",
        "plt.title('Vertical Image')\n",
        "\n",
        "plt.figure()\n",
        "\n",
        "plt.imshow(h_image, cmap='gray')\n",
        "\n",
        "plt.title('Horizontal Image')\n",
        "\n"
      ],
      "execution_count": null,
      "outputs": []
    }
  ]
}